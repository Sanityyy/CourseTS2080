{
 "cells": [
  {
   "cell_type": "code",
   "execution_count": 7,
   "id": "570e00a6",
   "metadata": {},
   "outputs": [],
   "source": [
    "class Employee:\n",
    "    def __init__(self, name, salary, project):\n",
    "        self.name = name\n",
    "        self.salary = salary \n",
    "        self.project = project"
   ]
  },
  {
   "cell_type": "code",
   "execution_count": 8,
   "id": "a1069f8f",
   "metadata": {},
   "outputs": [
    {
     "name": "stdout",
     "output_type": "stream",
     "text": [
      "Jessica\n",
      "8000\n",
      "NLP\n"
     ]
    }
   ],
   "source": [
    "emp = Employee('Jessica', 8000, 'NLP')\n",
    "\n",
    "print(emp.name)\n",
    "print(emp.salary)\n",
    "print(emp.project)"
   ]
  },
  {
   "cell_type": "code",
   "execution_count": 13,
   "id": "fbfc47a3",
   "metadata": {},
   "outputs": [
    {
     "name": "stdout",
     "output_type": "stream",
     "text": [
      "Jessica\n"
     ]
    },
    {
     "ename": "AttributeError",
     "evalue": "'Employee' object has no attribute 'salary'",
     "output_type": "error",
     "traceback": [
      "\u001b[1;31m---------------------------------------------------------------------------\u001b[0m",
      "\u001b[1;31mAttributeError\u001b[0m                            Traceback (most recent call last)",
      "Input \u001b[1;32mIn [13]\u001b[0m, in \u001b[0;36m<cell line: 10>\u001b[1;34m()\u001b[0m\n\u001b[0;32m      7\u001b[0m emp \u001b[38;5;241m=\u001b[39m Employee(\u001b[38;5;124m'\u001b[39m\u001b[38;5;124mJessica\u001b[39m\u001b[38;5;124m'\u001b[39m, \u001b[38;5;241m8000\u001b[39m, \u001b[38;5;124m'\u001b[39m\u001b[38;5;124mNLP\u001b[39m\u001b[38;5;124m'\u001b[39m)\n\u001b[0;32m      9\u001b[0m \u001b[38;5;28mprint\u001b[39m(emp\u001b[38;5;241m.\u001b[39mname)\n\u001b[1;32m---> 10\u001b[0m \u001b[38;5;28mprint\u001b[39m(\u001b[43memp\u001b[49m\u001b[38;5;241;43m.\u001b[39;49m\u001b[43msalary\u001b[49m)\n\u001b[0;32m     11\u001b[0m \u001b[38;5;28mprint\u001b[39m(emp\u001b[38;5;241m.\u001b[39mproject)\n",
      "\u001b[1;31mAttributeError\u001b[0m: 'Employee' object has no attribute 'salary'"
     ]
    }
   ],
   "source": [
    "class Employee:\n",
    "    def __init__(self, name, salary, project):\n",
    "        self.name = name\n",
    "        self.__salary = salary \n",
    "        self.project = project\n",
    "        \n",
    "emp = Employee('Jessica', 8000, 'NLP')\n",
    "\n",
    "print(emp.name)\n",
    "print(emp.salary)\n",
    "print(emp.project)"
   ]
  },
  {
   "cell_type": "code",
   "execution_count": 16,
   "id": "3f7695d0",
   "metadata": {},
   "outputs": [
    {
     "name": "stdout",
     "output_type": "stream",
     "text": [
      "Jessica 8000\n"
     ]
    }
   ],
   "source": [
    "class Employee:\n",
    "    def __init__(self, name, salary, project):\n",
    "        self.name = name\n",
    "        self.__salary = salary \n",
    "        self.project = project\n",
    "        \n",
    "    def show(self):\n",
    "        print(self.name, self.__salary)\n",
    "        \n",
    "emp = Employee('Jessica', 8000, 'NLP')\n",
    "\n",
    "emp.show()"
   ]
  },
  {
   "cell_type": "code",
   "execution_count": 20,
   "id": "59c197d3",
   "metadata": {},
   "outputs": [
    {
     "name": "stdout",
     "output_type": "stream",
     "text": [
      "Jessica\n",
      "8000\n",
      "NLP\n"
     ]
    }
   ],
   "source": [
    "class Employee:\n",
    "    def __init__(self, name, salary, project):\n",
    "        self.name = name\n",
    "        self.__salary = salary \n",
    "        self.project = project\n",
    "        \n",
    "emp = Employee('Jessica', 8000, 'NLP')\n",
    "\n",
    "print(emp.name)\n",
    "print(emp._Employee__salary)\n",
    "print(emp.project)"
   ]
  },
  {
   "cell_type": "code",
   "execution_count": null,
   "id": "90baabd0",
   "metadata": {},
   "outputs": [],
   "source": []
  }
 ],
 "metadata": {
  "kernelspec": {
   "display_name": "Python 3.8.13 ('Class1')",
   "language": "python",
   "name": "python3"
  },
  "language_info": {
   "codemirror_mode": {
    "name": "ipython",
    "version": 3
   },
   "file_extension": ".py",
   "mimetype": "text/x-python",
   "name": "python",
   "nbconvert_exporter": "python",
   "pygments_lexer": "ipython3",
   "version": "3.8.13"
  },
  "vscode": {
   "interpreter": {
    "hash": "066aacd6c057b7732d56fc82b5aea68e88bb48919eabed498a79bfdf31b499fb"
   }
  }
 },
 "nbformat": 4,
 "nbformat_minor": 5
}
